{
 "cells": [
  {
   "cell_type": "markdown",
   "id": "0c826617",
   "metadata": {},
   "source": [
    "# Rock, Paper, Scissors"
   ]
  },
  {
   "cell_type": "markdown",
   "id": "c8aafcad",
   "metadata": {},
   "source": [
    "Gabriel Migliore and Luke Jennings"
   ]
  },
  {
   "cell_type": "code",
   "execution_count": 2,
   "id": "4ae1c815",
   "metadata": {},
   "outputs": [],
   "source": [
    "import random"
   ]
  },
  {
   "cell_type": "code",
   "execution_count": 1,
   "id": "f09cfaae",
   "metadata": {},
   "outputs": [
    {
     "name": "stdout",
     "output_type": "stream",
     "text": [
      "Welcome to Rock, Paper, Scissors!\n",
      "Please enter a choice of rock, paper or scissors: paper\n",
      "paper! vs rock!\n",
      "You win!\n",
      "Would you like to play again? Y or N: Y\n",
      "Please enter a choice of rock, paper or scissors: rock\n",
      "rock! vs paper!\n",
      "You lose!\n",
      "Would you like to play again? Y or N: N\n"
     ]
    }
   ],
   "source": [
    "import random\n",
    "print(\"Welcome to Rock, Paper, Scissors!\")\n",
    "choices=[\"rock\", \"paper\", \"scissors\"]\n",
    "quit=\"Y\"\n",
    "while quit==\"Y\":\n",
    "    player_input=input(\"Please enter a choice of rock, paper or scissors: \")\n",
    "    ai_input=random.choice(choices) ##Chooses a random stirng from the above list\n",
    "    print(f'{player_input}' '! vs', f'{ai_input}''!')\n",
    "    if player_input==ai_input:\n",
    "        print(\"Tie!\")\n",
    "    elif player_input==\"rock\":\n",
    "        if ai_input==\"scissors\":\n",
    "            print(\"You win!\")\n",
    "        else:\n",
    "            print(\"You lose!\")\n",
    "    elif player_input==\"scissors\":  ##Bulk of the function checks if the player input \n",
    "        if ai_input==\"paper\":       ##will satisfy one of the three conditions\n",
    "            print(\"You win!\")\n",
    "        else:\n",
    "            print(\"You lose!\")\n",
    "    elif player_input==\"paper\":\n",
    "        if ai_input==\"rock\":\n",
    "            print(\"You win!\")\n",
    "        else:\n",
    "            print(\"You lose!\")\n",
    "    quit=input(\"Would you like to play again? Y or N: \") ##Restarts the game"
   ]
  },
  {
   "cell_type": "code",
   "execution_count": null,
   "id": "8703eb2f",
   "metadata": {},
   "outputs": [],
   "source": []
  }
 ],
 "metadata": {
  "kernelspec": {
   "display_name": "Python 3",
   "language": "python",
   "name": "python3"
  },
  "language_info": {
   "codemirror_mode": {
    "name": "ipython",
    "version": 3
   },
   "file_extension": ".py",
   "mimetype": "text/x-python",
   "name": "python",
   "nbconvert_exporter": "python",
   "pygments_lexer": "ipython3",
   "version": "3.8.8"
  }
 },
 "nbformat": 4,
 "nbformat_minor": 5
}
